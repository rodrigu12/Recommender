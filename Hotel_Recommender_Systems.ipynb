{
  "nbformat": 4,
  "nbformat_minor": 0,
  "metadata": {
    "colab": {
      "name": "Hotel_Recommender_Systems.ipynb",
      "provenance": [],
      "authorship_tag": "ABX9TyN0+k5J7yBEef6jyWdUXnDm",
      "include_colab_link": true
    },
    "kernelspec": {
      "name": "python3",
      "display_name": "Python 3"
    }
  },
  "cells": [
    {
      "cell_type": "markdown",
      "metadata": {
        "id": "view-in-github",
        "colab_type": "text"
      },
      "source": [
        "<a href=\"https://colab.research.google.com/github/rodrigu12/Recommender/blob/master/Hotel_Recommender_Systems.ipynb\" target=\"_parent\"><img src=\"https://colab.research.google.com/assets/colab-badge.svg\" alt=\"Open In Colab\"/></a>"
      ]
    },
    {
      "cell_type": "code",
      "metadata": {
        "id": "7ztHdGIQ2_Ad",
        "colab_type": "code",
        "colab": {}
      },
      "source": [
        "#setup importing libraries\n",
        "import pandas as pd\n",
        "from sklearn.feature_extraction.text import TfidfVectorizer\n",
        "from sklearn.metrics.pairwise import cosine_similarity\n"
      ],
      "execution_count": 27,
      "outputs": []
    },
    {
      "cell_type": "code",
      "metadata": {
        "id": "pfnAXrIn3qLQ",
        "colab_type": "code",
        "colab": {
          "base_uri": "https://localhost:8080/",
          "height": 496
        },
        "outputId": "7071d249-b751-403c-d607-79c734414f5d"
      },
      "source": [
        "#importing the data\n",
        "metadata = pd.read_csv('https://raw.githubusercontent.com/rodrigu12/Recommender/master/booking_com-travel_sample.csv')\n",
        "metadata.head()"
      ],
      "execution_count": 28,
      "outputs": [
        {
          "output_type": "execute_result",
          "data": {
            "text/html": [
              "<div>\n",
              "<style scoped>\n",
              "    .dataframe tbody tr th:only-of-type {\n",
              "        vertical-align: middle;\n",
              "    }\n",
              "\n",
              "    .dataframe tbody tr th {\n",
              "        vertical-align: top;\n",
              "    }\n",
              "\n",
              "    .dataframe thead th {\n",
              "        text-align: right;\n",
              "    }\n",
              "</style>\n",
              "<table border=\"1\" class=\"dataframe\">\n",
              "  <thead>\n",
              "    <tr style=\"text-align: right;\">\n",
              "      <th></th>\n",
              "      <th>address</th>\n",
              "      <th>city</th>\n",
              "      <th>country</th>\n",
              "      <th>crawl_date</th>\n",
              "      <th>hotel_brand</th>\n",
              "      <th>hotel_description</th>\n",
              "      <th>hotel_facilities</th>\n",
              "      <th>hotel_star_rating</th>\n",
              "      <th>image_count</th>\n",
              "      <th>latitude</th>\n",
              "      <th>locality</th>\n",
              "      <th>longitude</th>\n",
              "      <th>pageurl</th>\n",
              "      <th>property_id</th>\n",
              "      <th>property_name</th>\n",
              "      <th>property_type</th>\n",
              "      <th>province</th>\n",
              "      <th>qts</th>\n",
              "      <th>room_count</th>\n",
              "      <th>room_type</th>\n",
              "      <th>similar_hotel</th>\n",
              "      <th>site_review_count</th>\n",
              "      <th>site_review_rating</th>\n",
              "      <th>site_stay_review_rating</th>\n",
              "      <th>sitename</th>\n",
              "      <th>special_tag</th>\n",
              "      <th>state</th>\n",
              "      <th>uniq_id</th>\n",
              "      <th>zone</th>\n",
              "    </tr>\n",
              "  </thead>\n",
              "  <tbody>\n",
              "    <tr>\n",
              "      <th>0</th>\n",
              "      <td>KHIRSU, 246147 Pauri, India – Great location -</td>\n",
              "      <td>pauri</td>\n",
              "      <td>India</td>\n",
              "      <td>2016-09-01</td>\n",
              "      <td>NaN</td>\n",
              "      <td>Khirsu By GMVN offers accommodation in Pauri. ...</td>\n",
              "      <td>Bathroom:Toilet paper|Linen|Towels|Bathroom|To...</td>\n",
              "      <td>NaN</td>\n",
              "      <td>3.0</td>\n",
              "      <td>30.123749</td>\n",
              "      <td>NaN</td>\n",
              "      <td>78.793774</td>\n",
              "      <td>http://www.booking.com/hotel/in/khirsu-by-gmvn...</td>\n",
              "      <td>1742658.0</td>\n",
              "      <td>Khirsu By GMVN</td>\n",
              "      <td>204</td>\n",
              "      <td>NaN</td>\n",
              "      <td>2016-09-01 11:52:38 +0000</td>\n",
              "      <td>18.0</td>\n",
              "      <td>Economy Double Room</td>\n",
              "      <td>Hotel Mandakini</td>\n",
              "      <td>NaN</td>\n",
              "      <td>NaN</td>\n",
              "      <td>NaN</td>\n",
              "      <td>http://www.booking.com/</td>\n",
              "      <td>Share</td>\n",
              "      <td>Uttarakhand</td>\n",
              "      <td>a5ea72415f8007fcbe65759830fdd3d9</td>\n",
              "      <td>NaN</td>\n",
              "    </tr>\n",
              "    <tr>\n",
              "      <th>1</th>\n",
              "      <td>Kaathadimattam, Balacola Post, NEAR Siva Tea F...</td>\n",
              "      <td>ooty</td>\n",
              "      <td>India</td>\n",
              "      <td>2016-09-01</td>\n",
              "      <td>NaN</td>\n",
              "      <td>Situated in Ooty in the Tamil Nadu Region, 8 k...</td>\n",
              "      <td>Bathroom:Toilet paper|Linen|Towels|Bidet|Towel...</td>\n",
              "      <td>3 stars</td>\n",
              "      <td>NaN</td>\n",
              "      <td>11.329595</td>\n",
              "      <td>NaN</td>\n",
              "      <td>76.686732</td>\n",
              "      <td>http://www.booking.com/hotel/in/global-village...</td>\n",
              "      <td>1755986.0</td>\n",
              "      <td>Global Village Ooty</td>\n",
              "      <td>212</td>\n",
              "      <td>NaN</td>\n",
              "      <td>2016-09-01 11:52:38 +0000</td>\n",
              "      <td>10.0</td>\n",
              "      <td>British Empire Chalet</td>\n",
              "      <td>Treebo Yantra Leisures|Western Valley Resorts|...</td>\n",
              "      <td>5</td>\n",
              "      <td>7.6</td>\n",
              "      <td>Location:8.5|Staff:8|Cleanliness:7.5|Comfort:7...</td>\n",
              "      <td>http://www.booking.com/</td>\n",
              "      <td>Share</td>\n",
              "      <td>Tamil Nadu</td>\n",
              "      <td>7e0b055417271bbd9dae902f3e231ed4</td>\n",
              "      <td>NaN</td>\n",
              "    </tr>\n",
              "    <tr>\n",
              "      <th>2</th>\n",
              "      <td>PIPALKOTI, 246472 Pīpalkoti, India – Show map</td>\n",
              "      <td>pīpalkoti</td>\n",
              "      <td>India</td>\n",
              "      <td>2016-09-01</td>\n",
              "      <td>NaN</td>\n",
              "      <td>TRH Pipalkoti offers accommodation in Pīpalkot...</td>\n",
              "      <td>Bathroom:Toilet paper|Linen|Towels|Bathroom•Vi...</td>\n",
              "      <td>NaN</td>\n",
              "      <td>4.0</td>\n",
              "      <td>30.429540</td>\n",
              "      <td>NaN</td>\n",
              "      <td>79.428116</td>\n",
              "      <td>http://www.booking.com/hotel/in/trh-pipalkoti....</td>\n",
              "      <td>1741747.0</td>\n",
              "      <td>TRH Pipalkoti</td>\n",
              "      <td>204</td>\n",
              "      <td>NaN</td>\n",
              "      <td>2016-09-01 11:52:38 +0000</td>\n",
              "      <td>28.0</td>\n",
              "      <td>Economy Double Room</td>\n",
              "      <td>TRH Joshimath (New)</td>\n",
              "      <td>NaN</td>\n",
              "      <td>NaN</td>\n",
              "      <td>NaN</td>\n",
              "      <td>http://www.booking.com/</td>\n",
              "      <td>Share</td>\n",
              "      <td>Uttarakhand</td>\n",
              "      <td>72c0af09827bbb620365aa5df523ba1d</td>\n",
              "      <td>NaN</td>\n",
              "    </tr>\n",
              "    <tr>\n",
              "      <th>3</th>\n",
              "      <td>1 KARIYIL HOUSE KUMARAKOM NORTH PO KOTTAYAM, 6...</td>\n",
              "      <td>kumarakom</td>\n",
              "      <td>India</td>\n",
              "      <td>2016-09-01</td>\n",
              "      <td>NaN</td>\n",
              "      <td>Swasti house boat 2 is located in Kumarakom, 3...</td>\n",
              "      <td>Bathroom:Toilet paper|Towels|Bath|Shower•Bedro...</td>\n",
              "      <td>NaN</td>\n",
              "      <td>2.0</td>\n",
              "      <td>9.616057</td>\n",
              "      <td>NaN</td>\n",
              "      <td>76.428269</td>\n",
              "      <td>http://www.booking.com/hotel/in/swasti-house-b...</td>\n",
              "      <td>1747392.0</td>\n",
              "      <td>Swasti house boat 2</td>\n",
              "      <td>204</td>\n",
              "      <td>NaN</td>\n",
              "      <td>2016-09-01 11:52:38 +0000</td>\n",
              "      <td>1.0</td>\n",
              "      <td>Deluxe Room</td>\n",
              "      <td>NaN</td>\n",
              "      <td>NaN</td>\n",
              "      <td>NaN</td>\n",
              "      <td>NaN</td>\n",
              "      <td>http://www.booking.com/</td>\n",
              "      <td>Share</td>\n",
              "      <td>Kerala</td>\n",
              "      <td>eb6fd33d99aa4a8088caa8f3ecb08275</td>\n",
              "      <td>NaN</td>\n",
              "    </tr>\n",
              "    <tr>\n",
              "      <th>4</th>\n",
              "      <td>Kavanattinkara, 686563 Kumarakom, India – Show...</td>\n",
              "      <td>kumarakom</td>\n",
              "      <td>India</td>\n",
              "      <td>2016-09-01</td>\n",
              "      <td>NaN</td>\n",
              "      <td>Amrutham Houseboat 2 is set in Kumarakom, 5 km...</td>\n",
              "      <td>Bathroom:Toilet paper|Linen|Towels|Towels/Shee...</td>\n",
              "      <td>NaN</td>\n",
              "      <td>NaN</td>\n",
              "      <td>9.632854</td>\n",
              "      <td>NaN</td>\n",
              "      <td>76.423570</td>\n",
              "      <td>http://www.booking.com/hotel/in/amrutham-house...</td>\n",
              "      <td>1744962.0</td>\n",
              "      <td>Amrutham Houseboat 2</td>\n",
              "      <td>215</td>\n",
              "      <td>NaN</td>\n",
              "      <td>2016-09-01 11:52:38 +0000</td>\n",
              "      <td>2.0</td>\n",
              "      <td>Mobile Home</td>\n",
              "      <td>Mandala Beach House &amp; Cottages</td>\n",
              "      <td>NaN</td>\n",
              "      <td>NaN</td>\n",
              "      <td>NaN</td>\n",
              "      <td>http://www.booking.com/</td>\n",
              "      <td>Share</td>\n",
              "      <td>Kerala</td>\n",
              "      <td>0814d9af7ad808863c04db8f30437c57</td>\n",
              "      <td>NaN</td>\n",
              "    </tr>\n",
              "  </tbody>\n",
              "</table>\n",
              "</div>"
            ],
            "text/plain": [
              "                                             address  ... zone\n",
              "0     KHIRSU, 246147 Pauri, India – Great location -  ...  NaN\n",
              "1  Kaathadimattam, Balacola Post, NEAR Siva Tea F...  ...  NaN\n",
              "2      PIPALKOTI, 246472 Pīpalkoti, India – Show map  ...  NaN\n",
              "3  1 KARIYIL HOUSE KUMARAKOM NORTH PO KOTTAYAM, 6...  ...  NaN\n",
              "4  Kavanattinkara, 686563 Kumarakom, India – Show...  ...  NaN\n",
              "\n",
              "[5 rows x 29 columns]"
            ]
          },
          "metadata": {
            "tags": []
          },
          "execution_count": 28
        }
      ]
    },
    {
      "cell_type": "code",
      "metadata": {
        "id": "S6ybseYl4DFC",
        "colab_type": "code",
        "colab": {
          "base_uri": "https://localhost:8080/",
          "height": 119
        },
        "outputId": "841c20a6-226a-47f4-e3bb-a0df42f67522"
      },
      "source": [
        "#print the plot of the hotel description\n",
        "metadata['hotel_description'].head()"
      ],
      "execution_count": 29,
      "outputs": [
        {
          "output_type": "execute_result",
          "data": {
            "text/plain": [
              "0    Khirsu By GMVN offers accommodation in Pauri. ...\n",
              "1    Situated in Ooty in the Tamil Nadu Region, 8 k...\n",
              "2    TRH Pipalkoti offers accommodation in Pīpalkot...\n",
              "3    Swasti house boat 2 is located in Kumarakom, 3...\n",
              "4    Amrutham Houseboat 2 is set in Kumarakom, 5 km...\n",
              "Name: hotel_description, dtype: object"
            ]
          },
          "metadata": {
            "tags": []
          },
          "execution_count": 29
        }
      ]
    },
    {
      "cell_type": "code",
      "metadata": {
        "id": "Q73wcnTR645K",
        "colab_type": "code",
        "colab": {
          "base_uri": "https://localhost:8080/",
          "height": 34
        },
        "outputId": "21cea027-c08b-4a7f-844c-96974379e81b"
      },
      "source": [
        "#Defining a TF-IDF Vectorizer OObject. Removes all english stops words such as 'a', 'the'\n",
        "tfidf= TfidfVectorizer(stop_words='english')\n",
        "\n",
        "#Replace NaN with an empty string \n",
        "metadata ['hotel_description'] = metadata['hotel_description'].fillna('')\n",
        "\n",
        "#Construct the required TF-IDF matrix by fitting and transforming the data\n",
        "tfidf_matrix = tfidf.fit_transform(metadata['hotel_description'])\n",
        "\n",
        "#Output the shape of tfidf_matrix\n",
        "tfidf_matrix.shape\n"
      ],
      "execution_count": 30,
      "outputs": [
        {
          "output_type": "execute_result",
          "data": {
            "text/plain": [
              "(6000, 5249)"
            ]
          },
          "metadata": {
            "tags": []
          },
          "execution_count": 30
        }
      ]
    },
    {
      "cell_type": "code",
      "metadata": {
        "id": "YS6lqN1iEeD1",
        "colab_type": "code",
        "colab": {
          "base_uri": "https://localhost:8080/",
          "height": 34
        },
        "outputId": "93834535-2847-483c-9edc-3e72874be003"
      },
      "source": [
        "from sklearn.metrics.pairwise import cosine_similarity\n",
        "cosine_sim = cosine_similarity(tfidf_matrix, tfidf_matrix)\n",
        "cosine_sim.shape"
      ],
      "execution_count": 31,
      "outputs": [
        {
          "output_type": "execute_result",
          "data": {
            "text/plain": [
              "(6000, 6000)"
            ]
          },
          "metadata": {
            "tags": []
          },
          "execution_count": 31
        }
      ]
    },
    {
      "cell_type": "code",
      "metadata": {
        "id": "a_gmuXNxEkH3",
        "colab_type": "code",
        "colab": {}
      },
      "source": [
        "indices = pd.Series(metadata.index, index=metadata['property_name']).drop_duplicates()"
      ],
      "execution_count": 32,
      "outputs": []
    },
    {
      "cell_type": "code",
      "metadata": {
        "id": "dY8xsc0CE6RB",
        "colab_type": "code",
        "colab": {
          "base_uri": "https://localhost:8080/",
          "height": 221
        },
        "outputId": "ab9c1d10-6aba-4c0e-d1f9-5c07bbf28999"
      },
      "source": [
        "indices [:10]"
      ],
      "execution_count": 33,
      "outputs": [
        {
          "output_type": "execute_result",
          "data": {
            "text/plain": [
              "property_name\n",
              "Khirsu By GMVN          0\n",
              "Global Village Ooty     1\n",
              "TRH Pipalkoti           2\n",
              "Swasti house boat 2     3\n",
              "Amrutham Houseboat 2    4\n",
              "The Hill Side           5\n",
              "Hotel Mountain Face     6\n",
              "Rahi Motel Haridwar     7\n",
              "Swasti house boat 4     8\n",
              "NaN                     9\n",
              "dtype: int64"
            ]
          },
          "metadata": {
            "tags": []
          },
          "execution_count": 33
        }
      ]
    },
    {
      "cell_type": "code",
      "metadata": {
        "id": "LGu5sUPCE8W2",
        "colab_type": "code",
        "colab": {}
      },
      "source": [
        "#create a function that takes in the name of a hotel and outputs recommended hotels\n",
        "\n",
        "def get_recommendations(property_name, cosine_sim=cosine_sim):\n",
        "  #get the index of the hotel that matches the hotel_name\n",
        "    idx = indices[property_name]\n",
        "  \n",
        "    if isinstance(idx, pd.core.series.Series):\n",
        "      idx = idx[0]\n",
        "\n",
        "  #get the pairwise similarity scores of all hotel with that description\n",
        "    sim_scores = list(enumerate(cosine_sim[idx]))\n",
        "\n",
        "  #sort the hotels based on the similarity scores\n",
        "    sim_scores = sorted(sim_scores, key=lambda x: x[1], reverse=True)\n",
        "\n",
        "  #Get the scores of the 10 most similar hotels\n",
        "    sim_scores = sim_scores[1:11]\n",
        "  \n",
        "  #Get the hotel indices\n",
        "    hotel_indices = [i[0] for i in sim_scores]\n",
        "  \n",
        "  #Return the top 10 most similar movies\n",
        "    return metadata['property_name'].iloc[hotel_indices]\n",
        "\n",
        "\n",
        "\n"
      ],
      "execution_count": 46,
      "outputs": []
    },
    {
      "cell_type": "code",
      "metadata": {
        "id": "byQ4Kpn6GeAb",
        "colab_type": "code",
        "colab": {
          "base_uri": "https://localhost:8080/",
          "height": 204
        },
        "outputId": "6ae6ca8c-57e2-4392-f1d0-82e518369d60"
      },
      "source": [
        "get_recommendations('Vishwaratna Hotel')"
      ],
      "execution_count": 47,
      "outputs": [
        {
          "output_type": "execute_result",
          "data": {
            "text/plain": [
              "1021                       Vishwaratna Hotel\n",
              "1214                       Vishwaratna Hotel\n",
              "1429                       Vishwaratna Hotel\n",
              "2027                       Vishwaratna Hotel\n",
              "2251                       Vishwaratna Hotel\n",
              "4245    The Guwahati Address By Centre Point\n",
              "4447    The Guwahati Address By Centre Point\n",
              "3494                          Hotel Prince B\n",
              "3971                          Hotel Prince B\n",
              "3958                          Hotel Prince B\n",
              "Name: property_name, dtype: object"
            ]
          },
          "metadata": {
            "tags": []
          },
          "execution_count": 47
        }
      ]
    },
    {
      "cell_type": "code",
      "metadata": {
        "id": "9ZWYSMy9JtbS",
        "colab_type": "code",
        "colab": {
          "base_uri": "https://localhost:8080/",
          "height": 204
        },
        "outputId": "0fa9157c-17c7-4d5c-afe4-36bbac8d4a0b"
      },
      "source": [
        "get_recommendations('Hotel Mountain Face')"
      ],
      "execution_count": 48,
      "outputs": [
        {
          "output_type": "execute_result",
          "data": {
            "text/plain": [
              "44      Hotel Mountain Face\n",
              "148     Hotel Mai Vrindavan\n",
              "187     Hotel Mai Vrindavan\n",
              "280     Hotel Mai Vrindavan\n",
              "961       Vishwaratna Hotel\n",
              "1021      Vishwaratna Hotel\n",
              "1214      Vishwaratna Hotel\n",
              "1429      Vishwaratna Hotel\n",
              "2027      Vishwaratna Hotel\n",
              "2251      Vishwaratna Hotel\n",
              "Name: property_name, dtype: object"
            ]
          },
          "metadata": {
            "tags": []
          },
          "execution_count": 48
        }
      ]
    },
    {
      "cell_type": "code",
      "metadata": {
        "id": "2JCsbKCkJyB_",
        "colab_type": "code",
        "colab": {
          "base_uri": "https://localhost:8080/",
          "height": 204
        },
        "outputId": "50b98296-e351-490f-c86e-f341b2efa917"
      },
      "source": [
        "get_recommendations('Vishwaratna Hotel')"
      ],
      "execution_count": 49,
      "outputs": [
        {
          "output_type": "execute_result",
          "data": {
            "text/plain": [
              "1021                       Vishwaratna Hotel\n",
              "1214                       Vishwaratna Hotel\n",
              "1429                       Vishwaratna Hotel\n",
              "2027                       Vishwaratna Hotel\n",
              "2251                       Vishwaratna Hotel\n",
              "4245    The Guwahati Address By Centre Point\n",
              "4447    The Guwahati Address By Centre Point\n",
              "3494                          Hotel Prince B\n",
              "3971                          Hotel Prince B\n",
              "3958                          Hotel Prince B\n",
              "Name: property_name, dtype: object"
            ]
          },
          "metadata": {
            "tags": []
          },
          "execution_count": 49
        }
      ]
    },
    {
      "cell_type": "code",
      "metadata": {
        "id": "yV0MZ-lMKAHA",
        "colab_type": "code",
        "colab": {}
      },
      "source": [
        ""
      ],
      "execution_count": null,
      "outputs": []
    }
  ]
}